{
 "cells": [
  {
   "cell_type": "markdown",
   "id": "c967cf82",
   "metadata": {},
   "source": [
    "## Prérequis"
   ]
  },
  {
   "cell_type": "markdown",
   "id": "a9b6a4cd",
   "metadata": {},
   "source": [
    "Chromium webdriver installation:\n",
    "https://chromedriver.chromium.org/downloads\n",
    "\n",
    "BeautifulSoup\n",
    "\n",
    "Selenium"
   ]
  },
  {
   "cell_type": "markdown",
   "id": "2523c5ae",
   "metadata": {},
   "source": [
    "## Installation"
   ]
  },
  {
   "cell_type": "code",
   "execution_count": 1,
   "id": "678a609c",
   "metadata": {},
   "outputs": [
    {
     "ename": "SyntaxError",
     "evalue": "invalid syntax (1798081938.py, line 2)",
     "output_type": "error",
     "traceback": [
      "\u001b[0;36m  File \u001b[0;32m\"/var/folders/9p/n1grlsxd23v19s01ft7jpq880000gn/T/ipykernel_34168/1798081938.py\"\u001b[0;36m, line \u001b[0;32m2\u001b[0m\n\u001b[0;31m    pip install selenium\u001b[0m\n\u001b[0m        ^\u001b[0m\n\u001b[0;31mSyntaxError\u001b[0m\u001b[0;31m:\u001b[0m invalid syntax\n"
     ]
    }
   ],
   "source": [
    "##Installation de Selenium\n",
    "pip install selenium"
   ]
  },
  {
   "cell_type": "markdown",
   "id": "40839609-ad7f-432f-8b1f-9b249521b197",
   "metadata": {},
   "source": [
    "# Code"
   ]
  },
  {
   "cell_type": "code",
   "execution_count": 1,
   "id": "ace731df-b437-4bcc-942e-97852f78f4d1",
   "metadata": {},
   "outputs": [],
   "source": [
    "##Installation des packages et webdriver\n",
    "from selenium import webdriver\n",
    "from selenium.webdriver.common.keys import Keys\n",
    "from selenium.webdriver.common.by import By\n",
    "from bs4 import BeautifulSoup\n",
    "import urllib3\n",
    "import re\n",
    "import time\n",
    "from collections import defaultdict\n",
    "import numpy as np\n",
    "import tqdm\n",
    "import itertools\n",
    "\n",
    "from selenium.webdriver.support.ui import WebDriverWait\n",
    "from selenium.webdriver.common.by import By\n",
    "from selenium.webdriver.support import expected_conditions as EC"
   ]
  },
  {
   "cell_type": "markdown",
   "id": "d9c727e9-946f-433d-9684-579b5e8633ee",
   "metadata": {},
   "source": [
    "We start by using BS "
   ]
  },
  {
   "cell_type": "code",
   "execution_count": 2,
   "id": "7623e18b-d1fd-48ad-b7ab-8da215ee08c5",
   "metadata": {},
   "outputs": [],
   "source": [
    "##Define Function to get the html code\n",
    "def get_page(urlpage, element ,html_class):\n",
    "\n",
    "    # Get page in html\n",
    "    req = urllib3.PoolManager()\n",
    "    res = req.request('GET', urlpage)\n",
    "    soup = BeautifulSoup(res.data, 'html.parser')\n",
    "    \n",
    "    # Return elements that matched the html class in a list\n",
    "    content = soup.find_all(element ,class_= html_class)\n",
    "    \n",
    "    return content "
   ]
  },
  {
   "cell_type": "code",
   "execution_count": 3,
   "id": "0842591e-a82d-4592-8ba2-997632366901",
   "metadata": {},
   "outputs": [],
   "source": [
    "##Define function to get all links for all theaters\n",
    "def get_all_links():\n",
    "\n",
    "    # Webpage from which we extract all links\n",
    "    urlpage = 'https://www.linternaute.com/cinema/seances/ville/35074/strasbourg/'\n",
    "   \n",
    "    # Use get_page function to extract a list with all theaters\n",
    "    contentCine = get_page(urlpage, 'a', 'jCinemaLink')\n",
    "    liste_cinemas = re.findall('\">(.*?)</a>', str(contentCine))\n",
    "    \n",
    "    #Sub the string to get working links\n",
    "    contentCine_sub = re.sub('href=\"', 'https://www.linternaute.com', str(contentCine))\n",
    "    liste_Links = re.findall('jCinemaLink\" (.*?)/\">',str(contentCine_sub))\n",
    "    \n",
    "    # Create an empty dict\n",
    "    names_links = {}\n",
    "    \n",
    "    # Iterate over each link\n",
    "    for (name, link) in zip(liste_cinemas, liste_Links):\n",
    "            names_links.update({name : link})\n",
    "            \n",
    "    return names_links"
   ]
  },
  {
   "cell_type": "code",
   "execution_count": 4,
   "id": "46c32f46-b99a-4824-94f6-866caa787a4d",
   "metadata": {
    "scrolled": true
   },
   "outputs": [],
   "source": [
    "#Get all links from all theaters\n",
    "links = get_all_links()"
   ]
  },
  {
   "cell_type": "code",
   "execution_count": 5,
   "id": "930022fe-22ed-4e28-8c97-18eeac9ec9e0",
   "metadata": {},
   "outputs": [],
   "source": [
    "#Create dictionary\n",
    "cinemas = {} \n",
    "i = 1\n",
    "for key in links.keys(): \n",
    "    cinemas[i] = key \n",
    "    i = i+ 1"
   ]
  },
  {
   "cell_type": "code",
   "execution_count": 6,
   "id": "a3396121-89be-46cf-82a5-90f429b15056",
   "metadata": {},
   "outputs": [
    {
     "name": "stdout",
     "output_type": "stream",
     "text": [
      "list of theaters:\n",
      "1 : UGC Ciné Cité Strasbourg\n",
      "2 : Ciné Vox\n",
      "3 : Star\n",
      "4 : Star Saint-Exupéry\n",
      "===========\n",
      "Type the number of the cinema you want to visit:2\n"
     ]
    }
   ],
   "source": [
    "##Theater choices\n",
    "print(\"list of theaters:\")\n",
    "\n",
    "for cinema in cinemas:\n",
    "    print(cinema,\":\",cinemas[cinema])\n",
    "\n",
    "print(\"===========\")\n",
    "\n",
    "    \n",
    "    \n",
    "#Type input\n",
    "x = int(input(\"Type the number of the cinema you want to visit:\"))\n",
    "cinema_selected = links[cinemas[x]]"
   ]
  },
  {
   "cell_type": "markdown",
   "id": "badeb5ac",
   "metadata": {},
   "source": [
    "We continue the rest of the code by using Selenium"
   ]
  },
  {
   "cell_type": "code",
   "execution_count": 7,
   "id": "f3526654-93ec-488e-9576-fd8e6d6d9d38",
   "metadata": {
    "tags": []
   },
   "outputs": [],
   "source": [
    "##Create a function that opens the driver for the selected theater\n",
    "def init_driver(url):\n",
    "    driver = webdriver.Chrome()\n",
    "    driver.maximize_window()\n",
    "    driver.get(url) \n",
    "    time.sleep(5)\n",
    "    driver.switch_to.frame(driver.find_element(By.XPATH,'//*[@id=\"appconsent\"]/iframe'))\n",
    "    element = driver.find_element(By.XPATH, \"/html/body/div/div/div/div/div/div/div[2]/aside/section/button[2]\")\n",
    "    element.click()\n",
    "    driver.switch_to.default_content()\n",
    "    return driver"
   ]
  },
  {
   "cell_type": "code",
   "execution_count": 8,
   "id": "d12087c1-f6bd-40e1-b3c4-3d9c3172695a",
   "metadata": {},
   "outputs": [],
   "source": [
    "#Get dates for a theater\n",
    "\n",
    "dates = {}\n",
    "\n",
    "driver = init_driver(cinema_selected) \n",
    "dates_id = driver.find_elements(By.CLASS_NAME, \"jCinemaCalendarLabel \") #ID dates\n",
    "\n",
    "#Fill dictionary with dates\n",
    "for date in dates_id:\n",
    "    dates[date.get_attribute(\"data-date\")] = date.get_attribute('for') \n",
    "#close driver\n",
    "driver.quit() "
   ]
  },
  {
   "cell_type": "code",
   "execution_count": 11,
   "id": "14721ed2-50f0-45cc-a381-7f0398cc8233",
   "metadata": {},
   "outputs": [
    {
     "name": "stdout",
     "output_type": "stream",
     "text": [
      "Dates to choose:\n",
      "1 : 2023-03-12\n",
      "2 : 2023-03-13\n",
      "3 : 2023-03-14\n",
      "4 : 2023-03-15\n",
      "5 : 2023-03-16\n",
      "6 : 2023-03-17\n",
      "7 : 2023-03-18\n",
      "========\n",
      "Select a date:2\n"
     ]
    }
   ],
   "source": [
    "#Dictionary with choice options\n",
    "dates_dict = {} \n",
    "i = 1\n",
    "for key in dates.keys():\n",
    "    dates_dict[i] = key\n",
    "    i = i + 1\n",
    "\n",
    "print(\"Dates to choose:\")\n",
    "for date in dates_dict:\n",
    "    print(date,\":\",dates_dict[date])\n",
    "print(\"========\")\n",
    "\n",
    "x = int(input(\"Select a date:\"))\n",
    "date_selected_id = dates[dates_dict[x]]"
   ]
  },
  {
   "cell_type": "code",
   "execution_count": 23,
   "id": "3e993f77-f80d-4c21-aafd-cccd31823402",
   "metadata": {},
   "outputs": [
    {
     "data": {
      "text/plain": [
       "'id-jour-608-13'"
      ]
     },
     "execution_count": 23,
     "metadata": {},
     "output_type": "execute_result"
    }
   ],
   "source": [
    "date_selected_id "
   ]
  },
  {
   "cell_type": "code",
   "execution_count": 12,
   "id": "ff715cb3-479d-4b78-8e38-a6a02d967f09",
   "metadata": {
    "tags": []
   },
   "outputs": [],
   "source": [
    "##Define a function to get showtimes of all movies for a selected theater and selected date\n",
    "\n",
    "def get_funciones(cinema_selected,date_id):    \n",
    "\n",
    "    driver = init_driver(cinema_selected)\n",
    "\n",
    "#Clicks the chosen date in the website\n",
    "    element = driver.find_element(By.CSS_SELECTOR, f\"[for={date_id}]\") \n",
    "    print(element.get_attribute(\"data-date\"))\n",
    "    print(element.get_attribute('for'))\n",
    "    element.click()\n",
    "    time.sleep(4)\n",
    "    \n",
    "    \n",
    "#Get all movies in VF\n",
    "    vf_list = driver.find_elements(By.CSS_SELECTOR, \"[class='showtimes'][data-diffusion='En VF']\")\n",
    "    funciones_vf = {}\n",
    "    for vf in vf_list:\n",
    "        horas = vf.find_elements(By.CLASS_NAME, \"jShowtimeHour\")\n",
    "        horas_text = []\n",
    "        for i in horas:\n",
    "            horas_text.append(i.text)\n",
    "        funciones_vf[vf.get_attribute(\"data-movieid\")] = horas_text\n",
    "\n",
    "#Get all movies in VO\n",
    "    vo_list = driver.find_elements(By.CSS_SELECTOR, \"[class='showtimes'][data-diffusion='En VO']\")\n",
    "    funciones_vo = {}\n",
    "    for vo in vo_list:\n",
    "        horas = vo.find_elements(By.CLASS_NAME, \"jShowtimeHour\")\n",
    "        horas_text = []\n",
    "        for i in horas:\n",
    "            horas_text.append(i.text)\n",
    "        funciones_vo[vo.get_attribute(\"data-movieid\")] = horas_text\n",
    "\n",
    "#Find movies and put them in a dictionary        \n",
    "    movies = driver.find_elements(By.CSS_SELECTOR, \"[class='jMovie movie']\")\n",
    "    funciones_names = {}\n",
    "    for movie in movies:\n",
    "            name = movie.find_element(By.CLASS_NAME,\"movie_title\")\n",
    "            funciones_names[movie.get_attribute(\"data-movieid\")] = name.text\n",
    "#Put all dicts together\n",
    "    funciones = [] \n",
    "    for key_id in funciones_names:\n",
    "        dict_ = {}\n",
    "        dict_[\"id_\"] = key_id\n",
    "        dict_[\"name\"] = funciones_names[key_id]\n",
    "        if key_id in funciones_vf:\n",
    "            dict_[\"VF\"] = funciones_vf[key_id]\n",
    "        if key_id in funciones_vo:\n",
    "            dict_[\"VO\"] = funciones_vo[key_id]\n",
    "        funciones.append(dict_)\n",
    "    driver.quit()\n",
    "    return funciones"
   ]
  },
  {
   "cell_type": "code",
   "execution_count": 13,
   "id": "406f493b-f612-484a-b180-e971e5bcb736",
   "metadata": {},
   "outputs": [
    {
     "name": "stdout",
     "output_type": "stream",
     "text": [
      "2023-03-13\n",
      "id-jour-425-13\n"
     ]
    }
   ],
   "source": [
    "test = get_funciones(cinema_selected, date_selected_id) "
   ]
  },
  {
   "cell_type": "code",
   "execution_count": 14,
   "id": "13e04a86-9a0c-4388-9b50-702ca22655cf",
   "metadata": {},
   "outputs": [
    {
     "data": {
      "text/plain": [
       "[{'id_': '2697069',\n",
       "  'name': 'Alibi.com 2',\n",
       "  'VF': ['13:30', '15:55', '17:45', '20:10', '22:05']},\n",
       " {'id_': '2685362',\n",
       "  'name': \"Astérix et Obélix : L'Empire du Milieu\",\n",
       "  'VF': ['13:30', '15:45']},\n",
       " {'id_': '2677164',\n",
       "  'name': 'Ant-Man and the Wasp : Quantumania',\n",
       "  'VF': ['13:30', '20:05'],\n",
       "  'VO': ['22:30']},\n",
       " {'id_': '2703223',\n",
       "  'name': 'Creed III',\n",
       "  'VF': ['14:00', '16:50', '19:45', '22:15'],\n",
       "  'VO': ['15:30', '22:30']},\n",
       " {'id_': '2683446',\n",
       "  'name': 'The Fabelmans',\n",
       "  'VF': ['13:30'],\n",
       "  'VO': ['16:30', '19:30']},\n",
       " {'id_': '2750765',\n",
       "  'name': 'Scream VI',\n",
       "  'VF': ['14:00', '16:45', '19:45'],\n",
       "  'VO': ['22:30']},\n",
       " {'id_': '2662760', 'name': 'Arrête avec tes mensonges', 'VF': ['18:00']},\n",
       " {'id_': '2703235',\n",
       "  'name': 'The Whale',\n",
       "  'VF': ['13:30', '15:45', '17:45', '22:30'],\n",
       "  'VO': ['20:05']},\n",
       " {'id_': '2750769', 'name': 'Comme une actrice', 'VF': ['18:00', '22:10']},\n",
       " {'id_': '2765283', 'name': 'Sage-Homme', 'VF': ['20:00']}]"
      ]
     },
     "execution_count": 14,
     "metadata": {},
     "output_type": "execute_result"
    }
   ],
   "source": [
    "test"
   ]
  },
  {
   "cell_type": "markdown",
   "id": "42f64f8a-452a-4774-9c66-118b70e4ddb8",
   "metadata": {},
   "source": [
    "## THE END"
   ]
  },
  {
   "cell_type": "markdown",
   "id": "f91eb831",
   "metadata": {},
   "source": [
    "## ANNEXES"
   ]
  },
  {
   "cell_type": "markdown",
   "id": "f62b9ce2",
   "metadata": {},
   "source": [
    "Functions that weren't used"
   ]
  },
  {
   "cell_type": "code",
   "execution_count": null,
   "id": "9ab126d9",
   "metadata": {},
   "outputs": [],
   "source": [
    "##Define function to get the available dates\n",
    "def get_all_dates():\n",
    "    \n",
    "    urlpage = 'https://www.linternaute.com/cinema/seances/ville/35074/strasbourg/'\n",
    "    #Sort html code by date\n",
    "    contentDate = get_page(urlpage, 'label', 'jCinemaCalendarLabel')\n",
    "    \n",
    "    #get a list with the available dates\n",
    "    liste_dates = re.findall('data-date=\"(.*?)\"',str(contentDate))\n",
    "\n",
    "    #Re-arrange the date format\n",
    "    liste_dates_clean = []\n",
    "\n",
    "    for date in liste_dates :\n",
    "        tmp = date.split('-')\n",
    "        tmp_clean = '-'.join([tmp[2], tmp[1], tmp[0]])\n",
    "        liste_dates_clean.append(tmp_clean)\n",
    "    \n",
    "    return liste_dates_clean"
   ]
  },
  {
   "cell_type": "code",
   "execution_count": null,
   "id": "cf74e4a1",
   "metadata": {},
   "outputs": [],
   "source": [
    "dates = get_all_dates()"
   ]
  },
  {
   "cell_type": "code",
   "execution_count": null,
   "id": "ad54285c",
   "metadata": {},
   "outputs": [],
   "source": [
    "def get_Showdays_class() :\n",
    "    liste_Showdays = []\n",
    "    \n",
    "    for date in dates:\n",
    "        tmp = date.split('-')\n",
    "        jour = tmp[0]\n",
    "        Showday = 'jShowDay show-day-'+jour\n",
    "        liste_Showdays.append(Showday)\n",
    "    return liste_Showdays"
   ]
  }
 ],
 "metadata": {
  "kernelspec": {
   "display_name": "Python 3 (ipykernel)",
   "language": "python",
   "name": "python3"
  },
  "language_info": {
   "codemirror_mode": {
    "name": "ipython",
    "version": 3
   },
   "file_extension": ".py",
   "mimetype": "text/x-python",
   "name": "python",
   "nbconvert_exporter": "python",
   "pygments_lexer": "ipython3",
   "version": "3.9.13"
  }
 },
 "nbformat": 4,
 "nbformat_minor": 5
}
